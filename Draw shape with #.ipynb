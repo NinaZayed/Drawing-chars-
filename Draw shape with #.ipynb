{
 "cells": [
  {
   "cell_type": "code",
   "execution_count": 9,
   "metadata": {},
   "outputs": [
    {
     "name": "stdout",
     "output_type": "stream",
     "text": [
      "5\n",
      "    #\n",
      "   ##\n",
      "  ###\n",
      " ####\n",
      "#####\n"
     ]
    }
   ],
   "source": [
    "#from array import *\n",
    "arr = []\n",
    "string = ''\n",
    "n = int(input())\n",
    "j = 1\n",
    "while j < n+1:\n",
    "    i = j\n",
    "    while n-i:\n",
    "        arr.append(\" \")\n",
    "        i+= 1\n",
    "    col = j\n",
    "    while col:\n",
    "        arr.append(\"#\")\n",
    "        col-= 1\n",
    "    j+=1\n",
    "    string = ''.join(arr)\n",
    "    print(string)\n",
    "    arr = []"
   ]
  },
  {
   "cell_type": "code",
   "execution_count": 65,
   "metadata": {},
   "outputs": [
    {
     "name": "stdout",
     "output_type": "stream",
     "text": [
      "12\n",
      "12\n",
      "12\n",
      "24:45:54 \n"
     ]
    }
   ],
   "source": []
  },
  {
   "cell_type": "code",
   "execution_count": null,
   "metadata": {},
   "outputs": [],
   "source": []
  }
 ],
 "metadata": {
  "kernelspec": {
   "display_name": "Python 3",
   "language": "python",
   "name": "python3"
  },
  "language_info": {
   "codemirror_mode": {
    "name": "ipython",
    "version": 3
   },
   "file_extension": ".py",
   "mimetype": "text/x-python",
   "name": "python",
   "nbconvert_exporter": "python",
   "pygments_lexer": "ipython3",
   "version": "3.7.6"
  }
 },
 "nbformat": 4,
 "nbformat_minor": 4
}
